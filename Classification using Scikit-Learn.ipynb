{
 "cells": [
  {
   "cell_type": "code",
   "execution_count": 1,
   "id": "ae5b6faa",
   "metadata": {},
   "outputs": [],
   "source": [
    "#standard library\n",
    "import pandas as pd\n",
    "import numpy as np\n",
    "import sklearn\n",
    "import matplotlib.pyplot as plt\n",
    "%matplotlib inline"
   ]
  },
  {
   "cell_type": "markdown",
   "id": "5ea0a8be",
   "metadata": {},
   "source": [
    "## 1. Getting data ready"
   ]
  },
  {
   "cell_type": "code",
   "execution_count": 5,
   "id": "96e8283f",
   "metadata": {},
   "outputs": [],
   "source": [
    "heart_disease= pd.read_csv('heart-disease.csv')\n",
    "x= heart_disease.drop('target',axis=1)\n",
    "y= heart_disease['target']"
   ]
  },
  {
   "cell_type": "markdown",
   "id": "200e568d",
   "metadata": {},
   "source": [
    "## 2. Picking a model "
   ]
  },
  {
   "cell_type": "code",
   "execution_count": 3,
   "id": "fa90bc25",
   "metadata": {},
   "outputs": [],
   "source": [
    "from sklearn.ensemble import RandomForestClassifier\n",
    "model= RandomForestClassifier()"
   ]
  },
  {
   "cell_type": "markdown",
   "id": "38d38e41",
   "metadata": {},
   "source": [
    "## 3. Fit and make predictions using model"
   ]
  },
  {
   "cell_type": "code",
   "execution_count": 7,
   "id": "c76c3980",
   "metadata": {},
   "outputs": [
    {
     "data": {
      "text/plain": [
       "0.8157894736842105"
      ]
     },
     "execution_count": 7,
     "metadata": {},
     "output_type": "execute_result"
    }
   ],
   "source": [
    "from sklearn.model_selection import train_test_split\n",
    "x_train,x_test,y_train,y_test= train_test_split(x,y,test_size=0.25)\n",
    "model.fit(x_train,y_train)\n",
    "model.score(x_test,y_test)"
   ]
  },
  {
   "cell_type": "code",
   "execution_count": 8,
   "id": "460d8b9f",
   "metadata": {},
   "outputs": [
    {
     "data": {
      "text/plain": [
       "array([1, 1, 1, 1, 0, 1, 0, 1, 1, 1, 1, 0, 1, 1, 0, 1, 0, 0, 1, 0, 0, 0,\n",
       "       1, 0, 1, 1, 1, 0, 1, 0, 0, 1, 1, 1, 1, 0, 1, 1, 1, 0, 0, 0, 0, 1,\n",
       "       0, 1, 0, 1, 1, 0, 1, 0, 0, 1, 1, 1, 0, 0, 1, 1, 0, 0, 1, 0, 0, 1,\n",
       "       0, 0, 1, 1, 0, 1, 0, 0, 1, 0], dtype=int64)"
      ]
     },
     "execution_count": 8,
     "metadata": {},
     "output_type": "execute_result"
    }
   ],
   "source": [
    "y_preds= model.predict(x_test)\n",
    "y_preds"
   ]
  },
  {
   "cell_type": "markdown",
   "id": "0ec10701",
   "metadata": {},
   "source": [
    "## 4. Evaluating Model"
   ]
  },
  {
   "cell_type": "code",
   "execution_count": 9,
   "id": "29fc8e2b",
   "metadata": {},
   "outputs": [
    {
     "name": "stdout",
     "output_type": "stream",
     "text": [
      "              precision    recall  f1-score   support\n",
      "\n",
      "           0       0.71      0.86      0.78        29\n",
      "           1       0.90      0.79      0.84        47\n",
      "\n",
      "    accuracy                           0.82        76\n",
      "   macro avg       0.81      0.82      0.81        76\n",
      "weighted avg       0.83      0.82      0.82        76\n",
      "\n"
     ]
    }
   ],
   "source": [
    "from sklearn.metrics import classification_report, confusion_matrix, accuracy_score\n",
    "print(classification_report(y_test,y_preds))"
   ]
  },
  {
   "cell_type": "code",
   "execution_count": 10,
   "id": "cc80a50a",
   "metadata": {},
   "outputs": [
    {
     "data": {
      "text/plain": [
       "array([[25,  4],\n",
       "       [10, 37]], dtype=int64)"
      ]
     },
     "execution_count": 10,
     "metadata": {},
     "output_type": "execute_result"
    }
   ],
   "source": [
    "confusion_matrix(y_test,y_preds)"
   ]
  },
  {
   "cell_type": "code",
   "execution_count": 11,
   "id": "403d062a",
   "metadata": {},
   "outputs": [
    {
     "data": {
      "text/plain": [
       "0.8157894736842105"
      ]
     },
     "execution_count": 11,
     "metadata": {},
     "output_type": "execute_result"
    }
   ],
   "source": [
    "accuracy_score(y_test,y_preds)"
   ]
  },
  {
   "cell_type": "markdown",
   "id": "89b757a1",
   "metadata": {},
   "source": [
    "## 5. Improving model with hyper parameters"
   ]
  },
  {
   "cell_type": "code",
   "execution_count": 12,
   "id": "44bbb212",
   "metadata": {},
   "outputs": [
    {
     "data": {
      "text/plain": [
       "{'bootstrap': True,\n",
       " 'ccp_alpha': 0.0,\n",
       " 'class_weight': None,\n",
       " 'criterion': 'gini',\n",
       " 'max_depth': None,\n",
       " 'max_features': 'auto',\n",
       " 'max_leaf_nodes': None,\n",
       " 'max_samples': None,\n",
       " 'min_impurity_decrease': 0.0,\n",
       " 'min_impurity_split': None,\n",
       " 'min_samples_leaf': 1,\n",
       " 'min_samples_split': 2,\n",
       " 'min_weight_fraction_leaf': 0.0,\n",
       " 'n_estimators': 100,\n",
       " 'n_jobs': None,\n",
       " 'oob_score': False,\n",
       " 'random_state': None,\n",
       " 'verbose': 0,\n",
       " 'warm_start': False}"
      ]
     },
     "execution_count": 12,
     "metadata": {},
     "output_type": "execute_result"
    }
   ],
   "source": [
    "model.get_params()"
   ]
  },
  {
   "cell_type": "code",
   "execution_count": 14,
   "id": "3f610caf",
   "metadata": {},
   "outputs": [
    {
     "name": "stdout",
     "output_type": "stream",
     "text": [
      " Training model with 10 estimators...\n",
      "model accuracy on test set: 76.32%\n",
      " \n",
      " Training model with 20 estimators...\n",
      "model accuracy on test set: 76.32%\n",
      " \n",
      " Training model with 30 estimators...\n",
      "model accuracy on test set: 77.63%\n",
      " \n",
      " Training model with 40 estimators...\n",
      "model accuracy on test set: 80.26%\n",
      " \n",
      " Training model with 50 estimators...\n",
      "model accuracy on test set: 81.58%\n",
      " \n",
      " Training model with 60 estimators...\n",
      "model accuracy on test set: 82.89%\n",
      " \n",
      " Training model with 70 estimators...\n",
      "model accuracy on test set: 81.58%\n",
      " \n",
      " Training model with 80 estimators...\n",
      "model accuracy on test set: 80.26%\n",
      " \n",
      " Training model with 90 estimators...\n",
      "model accuracy on test set: 78.95%\n",
      " \n"
     ]
    }
   ],
   "source": [
    "np.random.seed(42)\n",
    "for i in range(10,100,10):\n",
    "    print(f\" Training model with {i} estimators...\")\n",
    "    clf= RandomForestClassifier(n_estimators=i)\n",
    "    clf.fit(x_train,y_train)\n",
    "    print(f\"model accuracy on test set: {clf.score(x_test,y_test)*100:.2f}%\")\n",
    "    print(\" \")"
   ]
  },
  {
   "cell_type": "markdown",
   "id": "1e413923",
   "metadata": {},
   "source": [
    "## 6. Saving and loading model"
   ]
  },
  {
   "cell_type": "code",
   "execution_count": 15,
   "id": "e7140553",
   "metadata": {},
   "outputs": [],
   "source": [
    "import pickle\n",
    "pickle.dump(clf,open(\"random_classifier_1\",\"wb\"))"
   ]
  },
  {
   "cell_type": "code",
   "execution_count": 16,
   "id": "5505bb69",
   "metadata": {},
   "outputs": [
    {
     "data": {
      "text/plain": [
       "0.7894736842105263"
      ]
     },
     "execution_count": 16,
     "metadata": {},
     "output_type": "execute_result"
    }
   ],
   "source": [
    "loaded_model= pickle.load(open(\"random_classifier_1\",\"rb\"))\n",
    "loaded_model.score(x_test,y_test)"
   ]
  }
 ],
 "metadata": {
  "kernelspec": {
   "display_name": "Python 3 (ipykernel)",
   "language": "python",
   "name": "python3"
  },
  "language_info": {
   "codemirror_mode": {
    "name": "ipython",
    "version": 3
   },
   "file_extension": ".py",
   "mimetype": "text/x-python",
   "name": "python",
   "nbconvert_exporter": "python",
   "pygments_lexer": "ipython3",
   "version": "3.9.5"
  }
 },
 "nbformat": 4,
 "nbformat_minor": 5
}
